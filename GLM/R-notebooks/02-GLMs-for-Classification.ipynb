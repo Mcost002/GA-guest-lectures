{
 "cells": [
  {
   "cell_type": "markdown",
   "metadata": {},
   "source": [
    "# 02 - GLMs for Classification\n",
    "GLMs make excellent, flexible statistical models.  However, they also excel at making classification algorithms.  The purpose of this notebook is to illustrate how this might be done in R.\n",
    "\n",
    "I give three examples of how GLMs may be used for classification:\n",
    "* Logistic regression\n",
    "* Multinomial logistic regression\n",
    "* Cumulative logistic regression"
   ]
  },
  {
   "cell_type": "code",
   "execution_count": 30,
   "metadata": {
    "collapsed": false
   },
   "outputs": [],
   "source": [
    "options(repr.plot.width = 5, repr.plot.height = 3)\n",
    "library(ggplot2)\n",
    "library(VGAM)\n",
    "library(dplyr)"
   ]
  },
  {
   "cell_type": "code",
   "execution_count": 6,
   "metadata": {
    "collapsed": false
   },
   "outputs": [
    {
     "name": "stderr",
     "output_type": "stream",
     "text": [
      "Installing package into 'C:/Users/Timothy/R/win-library/3.3'\n",
      "(as 'lib' is unspecified)\n",
      "also installing the dependencies 'bindr', 'assertthat', 'bindrcpp', 'glue', 'pkgconfig', 'plogr'\n",
      "\n"
     ]
    },
    {
     "name": "stdout",
     "output_type": "stream",
     "text": [
      "package 'bindr' successfully unpacked and MD5 sums checked\n",
      "package 'assertthat' successfully unpacked and MD5 sums checked\n",
      "package 'bindrcpp' successfully unpacked and MD5 sums checked\n",
      "package 'glue' successfully unpacked and MD5 sums checked\n",
      "package 'pkgconfig' successfully unpacked and MD5 sums checked\n",
      "package 'plogr' successfully unpacked and MD5 sums checked\n",
      "package 'dplyr' successfully unpacked and MD5 sums checked\n",
      "\n",
      "The downloaded binary packages are in\n",
      "\tC:\\Users\\Timothy\\AppData\\Local\\Temp\\RtmpUxN6MG\\downloaded_packages\n"
     ]
    }
   ],
   "source": [
    "install.packages('dplyr', repos = \"http://cran.us.r-project.org\")"
   ]
  },
  {
   "cell_type": "markdown",
   "metadata": {},
   "source": [
    "### Logistic Regression for Classification\n",
    "#### Data:\n",
    "For this example, I use the same data set from part 01: the `grad` data.  This is from [UCLA's IDRE module](https://stats.idre.ucla.edu/r/dae/logit-regression/), and here's its description:\n",
    "\n",
    " _A researcher is interested in how variables, such as GRE (Graduate Record Exam scores), GPA (grade point average) and prestige of the undergraduate institution, effect admission into graduate school. The response variable, admit/don’t admit, is a binary variable._"
   ]
  },
  {
   "cell_type": "code",
   "execution_count": 35,
   "metadata": {
    "collapsed": true
   },
   "outputs": [],
   "source": [
    "grad = read.csv(\"https://stats.idre.ucla.edu/stat/data/binary.csv\")"
   ]
  },
  {
   "cell_type": "code",
   "execution_count": 36,
   "metadata": {
    "collapsed": false
   },
   "outputs": [
    {
     "data": {
      "text/plain": [
       "\n",
       "  0   1 \n",
       "273 127 "
      ]
     },
     "metadata": {},
     "output_type": "display_data"
    }
   ],
   "source": [
    "table(grad$admit)"
   ]
  },
  {
   "cell_type": "code",
   "execution_count": 38,
   "metadata": {
    "collapsed": false
   },
   "outputs": [],
   "source": [
    "# Create a training/test split\n",
    "set.seed(1234)\n",
    "n_train <- 100\n",
    "index_train <- sample(1:nrow(iris), n_train, replace = FALSE)\n",
    "grad_train <- grad[index_train,]\n",
    "grad_test <- grad[-index_train,]"
   ]
  },
  {
   "cell_type": "code",
   "execution_count": 39,
   "metadata": {
    "collapsed": false
   },
   "outputs": [
    {
     "data": {
      "text/plain": [
       "\n",
       "Call:\n",
       "glm(formula = admit ~ gre + gpa + rank, family = binomial, data = grad_train)\n",
       "\n",
       "Deviance Residuals: \n",
       "    Min       1Q   Median       3Q      Max  \n",
       "-1.9378  -0.7644  -0.4646   0.9375   2.3371  \n",
       "\n",
       "Coefficients:\n",
       "             Estimate Std. Error z value Pr(>|z|)    \n",
       "(Intercept) -0.163788   2.303155  -0.071  0.94331    \n",
       "gre          0.006096   0.002436   2.502  0.01234 *  \n",
       "gpa         -0.566717   0.721434  -0.786  0.43214    \n",
       "rank        -0.887582   0.253785  -3.497  0.00047 ***\n",
       "---\n",
       "Signif. codes:  0 '***' 0.001 '**' 0.01 '*' 0.05 '.' 0.1 ' ' 1\n",
       "\n",
       "(Dispersion parameter for binomial family taken to be 1)\n",
       "\n",
       "    Null deviance: 128.21  on 99  degrees of freedom\n",
       "Residual deviance: 105.59  on 96  degrees of freedom\n",
       "AIC: 113.59\n",
       "\n",
       "Number of Fisher Scoring iterations: 4\n"
      ]
     },
     "metadata": {},
     "output_type": "display_data"
    }
   ],
   "source": [
    "# Produce the same model\n",
    "glm_logit <- glm(admit ~ gre + gpa + rank, data = grad_train, family = binomial)\n",
    "summary(glm_logit)"
   ]
  },
  {
   "cell_type": "code",
   "execution_count": 40,
   "metadata": {
    "collapsed": false
   },
   "outputs": [
    {
     "data": {
      "text/html": [
       "<dl class=dl-horizontal>\n",
       "\t<dt>18</dt>\n",
       "\t\t<dd>0.110781011996383</dd>\n",
       "\t<dt>93</dt>\n",
       "\t\t<dd>0.674281009824169</dd>\n",
       "\t<dt>91</dt>\n",
       "\t\t<dd>0.539340247665819</dd>\n",
       "\t<dt>92</dt>\n",
       "\t\t<dd>0.781574319954265</dd>\n",
       "\t<dt>126</dt>\n",
       "\t\t<dd>0.0880398246197096</dd>\n",
       "\t<dt>149</dt>\n",
       "\t\t<dd>0.556147060365041</dd>\n",
       "</dl>\n"
      ],
      "text/latex": [
       "\\begin{description*}\n",
       "\\item[18] 0.110781011996383\n",
       "\\item[93] 0.674281009824169\n",
       "\\item[91] 0.539340247665819\n",
       "\\item[92] 0.781574319954265\n",
       "\\item[126] 0.0880398246197096\n",
       "\\item[149] 0.556147060365041\n",
       "\\end{description*}\n"
      ],
      "text/markdown": [
       "18\n",
       ":   0.11078101199638393\n",
       ":   0.67428100982416991\n",
       ":   0.53934024766581992\n",
       ":   0.781574319954265126\n",
       ":   0.0880398246197096149\n",
       ":   0.556147060365041\n",
       "\n"
      ],
      "text/plain": [
       "        18         93         91         92        126        149 \n",
       "0.11078101 0.67428101 0.53934025 0.78157432 0.08803982 0.55614706 "
      ]
     },
     "metadata": {},
     "output_type": "display_data"
    }
   ],
   "source": [
    "# Predict training/test response\n",
    "yhat_train <- fitted(glm_logit)\n",
    "yhat_test <- predict(glm_logit, grad_test)\n",
    "\n",
    "head(yhat_train)"
   ]
  },
  {
   "cell_type": "code",
   "execution_count": 41,
   "metadata": {
    "collapsed": false
   },
   "outputs": [
    {
     "data": {
      "text/plain": [
       "yhat_train\n",
       " 0  1 \n",
       "73 27 "
      ]
     },
     "metadata": {},
     "output_type": "display_data"
    }
   ],
   "source": [
    "# Convert probabilities to \"success\"/\"failure\"s.\n",
    "p_thresh <- 0.5\n",
    "\n",
    "yhat_train <- (yhat_train > p_thresh) * 1\n",
    "yhat_test <- (yhat_test > p_thresh) * 1\n",
    "\n",
    "table(yhat_train)"
   ]
  },
  {
   "cell_type": "code",
   "execution_count": 42,
   "metadata": {
    "collapsed": false
   },
   "outputs": [
    {
     "data": {
      "text/html": [
       "0.75"
      ],
      "text/latex": [
       "0.75"
      ],
      "text/markdown": [
       "0.75"
      ],
      "text/plain": [
       "[1] 0.75"
      ]
     },
     "metadata": {},
     "output_type": "display_data"
    }
   ],
   "source": [
    "# Training classification error\n",
    "mean(yhat_train == grad_train$admit)"
   ]
  },
  {
   "cell_type": "code",
   "execution_count": 43,
   "metadata": {
    "collapsed": false
   },
   "outputs": [
    {
     "data": {
      "text/html": [
       "0.69"
      ],
      "text/latex": [
       "0.69"
      ],
      "text/markdown": [
       "0.69"
      ],
      "text/plain": [
       "[1] 0.69"
      ]
     },
     "metadata": {},
     "output_type": "display_data"
    }
   ],
   "source": [
    "# Testing classification error\n",
    "mean(yhat_test == grad_test$admit)"
   ]
  },
  {
   "cell_type": "markdown",
   "metadata": {},
   "source": [
    "### Multinomial Logistic Regression\n",
    "Using GLMs to classify is not limited to binomial response data.  The multinomial distribution can be used to help classify a response variable with more than 2 levels (also known as \"polytomous data\").\n",
    "\n",
    "Recall the formal definition of a K-class multinomial logistic regression:\n",
    "\n",
    "$Y_i \\sim \\text{iid Mult}(1, \\mathbf{\\pi})$\n",
    "\n",
    "$\\log\\left(\\frac{p_1}{p_K}\\right) = \\beta_{01} + \\beta_{11} x_1 + \\cdots + \\beta_{p1} x_p$\n",
    "\n",
    "$\\log\\left(\\frac{p_2}{p_K}\\right) = \\beta_{02} + \\beta_{12} x_1 + \\cdots + \\beta_{p2} x_p$\n",
    "\n",
    "$\\cdots$\n",
    "\n",
    "$\\log\\left(\\frac{p_{K-1}}{p_K}\\right) = \\beta_{0K-1} + \\beta_{1K-1} x_1 + \\cdots + \\beta_{pK-1} x_p$\n",
    "\n",
    "#### Data\n",
    "This time, I'm using the classic `iris` dataset.  In Python, this public-domain dataset can be found in the `seaborn` plotting package.  The data consist of four flower characteristcs, and the response variable, flower type.  There are 3 classes this can take."
   ]
  },
  {
   "cell_type": "code",
   "execution_count": 44,
   "metadata": {
    "collapsed": false
   },
   "outputs": [
    {
     "data": {
      "text/html": [
       "<table>\n",
       "<thead><tr><th></th><th scope=col>Sepal.Length</th><th scope=col>Sepal.Width</th><th scope=col>Petal.Length</th><th scope=col>Petal.Width</th><th scope=col>Species</th></tr></thead>\n",
       "<tbody>\n",
       "\t<tr><th scope=row>1</th><td>5.1   </td><td>3.5   </td><td>1.4   </td><td>0.2   </td><td>setosa</td></tr>\n",
       "\t<tr><th scope=row>2</th><td>4.9   </td><td>3     </td><td>1.4   </td><td>0.2   </td><td>setosa</td></tr>\n",
       "\t<tr><th scope=row>3</th><td>4.7   </td><td>3.2   </td><td>1.3   </td><td>0.2   </td><td>setosa</td></tr>\n",
       "\t<tr><th scope=row>4</th><td>4.6   </td><td>3.1   </td><td>1.5   </td><td>0.2   </td><td>setosa</td></tr>\n",
       "\t<tr><th scope=row>5</th><td>5     </td><td>3.6   </td><td>1.4   </td><td>0.2   </td><td>setosa</td></tr>\n",
       "\t<tr><th scope=row>6</th><td>5.4   </td><td>3.9   </td><td>1.7   </td><td>0.4   </td><td>setosa</td></tr>\n",
       "</tbody>\n",
       "</table>\n"
      ],
      "text/latex": [
       "\\begin{tabular}{r|lllll}\n",
       "  & Sepal.Length & Sepal.Width & Petal.Length & Petal.Width & Species\\\\\n",
       "\\hline\n",
       "\t1 & 5.1    & 3.5    & 1.4    & 0.2    & setosa\\\\\n",
       "\t2 & 4.9    & 3      & 1.4    & 0.2    & setosa\\\\\n",
       "\t3 & 4.7    & 3.2    & 1.3    & 0.2    & setosa\\\\\n",
       "\t4 & 4.6    & 3.1    & 1.5    & 0.2    & setosa\\\\\n",
       "\t5 & 5      & 3.6    & 1.4    & 0.2    & setosa\\\\\n",
       "\t6 & 5.4    & 3.9    & 1.7    & 0.4    & setosa\\\\\n",
       "\\end{tabular}\n"
      ],
      "text/plain": [
       "  Sepal.Length Sepal.Width Petal.Length Petal.Width Species\n",
       "1          5.1         3.5          1.4         0.2  setosa\n",
       "2          4.9         3.0          1.4         0.2  setosa\n",
       "3          4.7         3.2          1.3         0.2  setosa\n",
       "4          4.6         3.1          1.5         0.2  setosa\n",
       "5          5.0         3.6          1.4         0.2  setosa\n",
       "6          5.4         3.9          1.7         0.4  setosa"
      ]
     },
     "metadata": {},
     "output_type": "display_data"
    }
   ],
   "source": [
    "data(iris)\n",
    "head(iris)"
   ]
  },
  {
   "cell_type": "code",
   "execution_count": 45,
   "metadata": {
    "collapsed": false
   },
   "outputs": [
    {
     "data": {
      "text/plain": [
       "\n",
       "    setosa versicolor  virginica \n",
       "        50         50         50 "
      ]
     },
     "metadata": {},
     "output_type": "display_data"
    }
   ],
   "source": [
    "# The class is the species variable.  There are 3 species.\n",
    "table(iris$Species)"
   ]
  },
  {
   "cell_type": "code",
   "execution_count": 46,
   "metadata": {
    "collapsed": false
   },
   "outputs": [
    {
     "data": {
      "image/png": "[encoded data removed]",
      "text/plain": [
       "plot without title"
      ]
     },
     "metadata": {
      "image/svg+xml": {
       "isolated": true
      }
     },
     "output_type": "display_data"
    },
    {
     "data": {
      "image/png": "[encoded data removed]",
      "text/plain": [
       "plot without title"
      ]
     },
     "metadata": {
      "image/svg+xml": {
       "isolated": true
      }
     },
     "output_type": "display_data"
    }
   ],
   "source": [
    "# Notice that this variable visually appears to be very easy to predict.\n",
    "ggplot(iris, aes(Sepal.Length, Sepal.Width)) +\n",
    "    theme_bw() +\n",
    "    geom_point(aes(color = Species))\n",
    "\n",
    "ggplot(iris, aes(Petal.Length, Petal.Width)) +\n",
    "    theme_bw() +\n",
    "    geom_point(aes(color = Species))"
   ]
  },
  {
   "cell_type": "markdown",
   "metadata": {},
   "source": [
    "### The VGAM Package\n",
    "Everything you need in order to perform multinomial (and cumulative) logistic regression is in the `VGAM` package.  VGAM stands for **v**ector **g**eneralized **a**dditive **m**odels.  The function we'll use here is `vglm()` (vector GLMs)."
   ]
  },
  {
   "cell_type": "code",
   "execution_count": 48,
   "metadata": {
    "collapsed": false
   },
   "outputs": [],
   "source": [
    "# Train/Test split\n",
    "n_train <- 100\n",
    "index_train <- sample(1:nrow(iris), n_train, replace = FALSE)\n",
    "\n",
    "iris_train <- iris[index_train,]\n",
    "iris_test <- iris[-index_train,]"
   ]
  },
  {
   "cell_type": "code",
   "execution_count": 55,
   "metadata": {
    "collapsed": false
   },
   "outputs": [
    {
     "data": {
      "text/plain": [
       "\n",
       "Call:\n",
       "vglm(formula = Species ~ Sepal.Length + Sepal.Width, family = multinomial, \n",
       "    data = iris_train)\n",
       "\n",
       "\n",
       "Pearson residuals:\n",
       "                      Min         1Q     Median        3Q     Max\n",
       "log(mu[,1]/mu[,3]) -1.080  5.882e-13  7.926e-13 3.853e-08 0.08078\n",
       "log(mu[,2]/mu[,3]) -3.243 -4.791e-01 -2.441e-06 5.889e-01 2.15419\n",
       "\n",
       "Coefficients: \n",
       "               Estimate Std. Error z value Pr(>|z|)    \n",
       "(Intercept):1  112.2929   142.0932   0.790  0.42937    \n",
       "(Intercept):2   12.5344     3.6380   3.445  0.00057 ***\n",
       "Sepal.Length:1 -38.9931    48.0339  -0.812  0.41692    \n",
       "Sepal.Length:2  -1.5787     0.5784  -2.729  0.00634 ** \n",
       "Sepal.Width:1   30.8706    43.4151   0.711  0.47705    \n",
       "Sepal.Width:2   -0.9432     1.0492  -0.899  0.36868    \n",
       "---\n",
       "Signif. codes:  0 '***' 0.001 '**' 0.01 '*' 0.05 '.' 0.1 ' ' 1\n",
       "\n",
       "Number of linear predictors:  2 \n",
       "\n",
       "Names of linear predictors: log(mu[,1]/mu[,3]), log(mu[,2]/mu[,3])\n",
       "\n",
       "Residual deviance: 76.7433 on 194 degrees of freedom\n",
       "\n",
       "Log-likelihood: -38.3717 on 194 degrees of freedom\n",
       "\n",
       "Number of iterations: 17 \n",
       "\n",
       "Reference group is level  3  of the response"
      ]
     },
     "metadata": {},
     "output_type": "display_data"
    }
   ],
   "source": [
    "# Train the model.\n",
    "# I am supressing warnings because there are many computational warnings.\n",
    "# The primary one being fitted values being set to 0 or 1.\n",
    "suppressWarnings({\n",
    "    multi_glm <- vglm(Species ~ Sepal.Length + Sepal.Width,\n",
    "                      data = iris_train,\n",
    "                      family = multinomial)\n",
    "})\n",
    "\n",
    "summary(multi_glm)"
   ]
  },
  {
   "cell_type": "code",
   "execution_count": 62,
   "metadata": {
    "collapsed": false
   },
   "outputs": [
    {
     "name": "stderr",
     "output_type": "stream",
     "text": [
      "Warning message:\n",
      "In object@family@linkinv(predictor, extra = new.extra): fitted probabilities numerically 0 or 1 occurred"
     ]
    },
    {
     "data": {
      "text/html": [
       "<table>\n",
       "<thead><tr><th></th><th scope=col>setosa</th><th scope=col>versicolor</th><th scope=col>virginica</th></tr></thead>\n",
       "<tbody>\n",
       "\t<tr><th scope=row>100</th><td>1.752642e-11</td><td>7.098762e-01</td><td>2.901238e-01</td></tr>\n",
       "\t<tr><th scope=row>79</th><td>4.609823e-15</td><td>5.809924e-01</td><td>4.190076e-01</td></tr>\n",
       "\t<tr><th scope=row>47</th><td>1.000000e+00</td><td>1.100562e-13</td><td>4.479908e-14</td></tr>\n",
       "\t<tr><th scope=row>113</th><td>5.035555e-27</td><td>2.629984e-01</td><td>7.370016e-01</td></tr>\n",
       "\t<tr><th scope=row>77</th><td>9.944245e-30</td><td>3.011557e-01</td><td>6.988443e-01</td></tr>\n",
       "\t<tr><th scope=row>107</th><td>0.01597185</td><td>0.90518760</td><td>0.07884055</td></tr>\n",
       "</tbody>\n",
       "</table>\n"
      ],
      "text/latex": [
       "\\begin{tabular}{r|lll}\n",
       "  & setosa & versicolor & virginica\\\\\n",
       "\\hline\n",
       "\t100 & 1.752642e-11 & 7.098762e-01 & 2.901238e-01\\\\\n",
       "\t79 & 4.609823e-15 & 5.809924e-01 & 4.190076e-01\\\\\n",
       "\t47 & 1.000000e+00 & 1.100562e-13 & 4.479908e-14\\\\\n",
       "\t113 & 5.035555e-27 & 2.629984e-01 & 7.370016e-01\\\\\n",
       "\t77 & 9.944245e-30 & 3.011557e-01 & 6.988443e-01\\\\\n",
       "\t107 & 0.01597185 & 0.90518760 & 0.07884055\\\\\n",
       "\\end{tabular}\n"
      ],
      "text/markdown": [
       "1. 1.7526423366409e-11\n",
       "2. 4.60982294637643e-15\n",
       "3. 0.999999999999845\n",
       "4. 5.03555541380962e-27\n",
       "5. 9.94424453037128e-30\n",
       "6. 0.0159718538901521\n",
       "7. 0.709876206711346\n",
       "8. 0.580992373181541\n",
       "9. 1.10056214193489e-13\n",
       "10. 0.262998410389876\n",
       "11. 0.301155669187455\n",
       "12. 0.905187600449039\n",
       "13. 0.290123793271127\n",
       "14. 0.419007626818454\n",
       "15. 4.47990849676126e-14\n",
       "16. 0.737001589610124\n",
       "17. 0.698844330812545\n",
       "18. 0.078840545660809\n",
       "\n",
       "\n"
      ],
      "text/plain": [
       "          setosa   versicolor    virginica\n",
       "100 1.752642e-11 7.098762e-01 2.901238e-01\n",
       "79  4.609823e-15 5.809924e-01 4.190076e-01\n",
       "47  1.000000e+00 1.100562e-13 4.479908e-14\n",
       "113 5.035555e-27 2.629984e-01 7.370016e-01\n",
       "77  9.944245e-30 3.011557e-01 6.988443e-01\n",
       "107 1.597185e-02 9.051876e-01 7.884055e-02"
      ]
     },
     "metadata": {},
     "output_type": "display_data"
    }
   ],
   "source": [
    "yhat_train <- predict(multi_glm, iris_train, type = 'response')\n",
    "yhat_test <- predict(multi_glm, iris_test, type = 'response')\n",
    "head(yhat_train)"
   ]
  },
  {
   "cell_type": "code",
   "execution_count": 65,
   "metadata": {
    "collapsed": false
   },
   "outputs": [
    {
     "data": {
      "text/plain": [
       "\n",
       "  1 \n",
       "100 "
      ]
     },
     "metadata": {},
     "output_type": "display_data"
    }
   ],
   "source": [
    "# Perfect!  Fitted values are indeed probabilities.\n",
    "table(rowSums(yhat_train))"
   ]
  },
  {
   "cell_type": "code",
   "execution_count": 77,
   "metadata": {
    "collapsed": false
   },
   "outputs": [
    {
     "data": {
      "text/plain": [
       "train_class\n",
       " 1  2  3 \n",
       "32 36 32 "
      ]
     },
     "metadata": {},
     "output_type": "display_data"
    }
   ],
   "source": [
    "# Select the maximum probability row-wise.\n",
    "train_class <- apply(as.matrix(yhat_train), 1, which.max)\n",
    "test_class <- apply(as.matrix(yhat_test), 1, which.max)\n",
    "\n",
    "table(train_class)"
   ]
  },
  {
   "cell_type": "code",
   "execution_count": 78,
   "metadata": {
    "collapsed": false
   },
   "outputs": [
    {
     "data": {
      "text/plain": [
       "train_class\n",
       "    setosa versicolor  virginica \n",
       "        32         36         32 "
      ]
     },
     "metadata": {},
     "output_type": "display_data"
    }
   ],
   "source": [
    "# Let's revert the integer classes back into word-classes.\n",
    "class_lookup <- c('1' = 'setosa',\n",
    "                  '2' = 'versicolor',\n",
    "                  '3' = 'virginica')\n",
    "\n",
    "train_class <- class_lookup[train_class]\n",
    "test_class <- class_lookup[test_class]\n",
    "\n",
    "table(train_class)"
   ]
  },
  {
   "cell_type": "code",
   "execution_count": 83,
   "metadata": {
    "collapsed": false
   },
   "outputs": [
    {
     "name": "stdout",
     "output_type": "stream",
     "text": [
      "Correctly classified:  82 \n",
      "Total training data:  100 \n",
      "Training classification accuracy rate:  0.82"
     ]
    }
   ],
   "source": [
    "cat('Correctly classified: ', sum(train_class == iris_train$Species), '\\n')\n",
    "cat('Total training data: ', nrow(iris_train), '\\n')\n",
    "cat('Training classification accuracy rate: ', mean(train_class == iris_train$Species))"
   ]
  },
  {
   "cell_type": "code",
   "execution_count": 84,
   "metadata": {
    "collapsed": false
   },
   "outputs": [
    {
     "name": "stdout",
     "output_type": "stream",
     "text": [
      "Correctly classified:  41 \n",
      "Total testing data:  50 \n",
      "Training classification accuracy rate:  0.82"
     ]
    }
   ],
   "source": [
    "cat('Correctly classified: ', sum(test_class == iris_test$Species), '\\n')\n",
    "cat('Total testing data: ', nrow(iris_test), '\\n')\n",
    "cat('Training classification accuracy rate: ', mean(test_class == iris_test$Species))"
   ]
  }
 ],
 "metadata": {
  "kernelspec": {
   "display_name": "R",
   "language": "R",
   "name": "ir"
  },
  "language_info": {
   "codemirror_mode": "r",
   "file_extension": ".r",
   "mimetype": "text/x-r-source",
   "name": "R",
   "pygments_lexer": "r",
   "version": "3.3.1"
  }
 },
 "nbformat": 4,
 "nbformat_minor": 0
}
