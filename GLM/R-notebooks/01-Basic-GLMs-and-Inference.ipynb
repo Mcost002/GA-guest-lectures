{
 "cells": [
  {
   "cell_type": "markdown",
   "metadata": {},
   "source": [
    "# 01 - Basic GLMs and Inference\n",
    "The purpose of this file is to:\n",
    "* Show use-cases for various GLMs\n",
    "* Introduce the `glm()` function for implementing scalar-response GLMs.\n",
    "* Work with some inference techniques to ensure we are creating useful models."
   ]
  },
  {
   "cell_type": "code",
   "execution_count": 1,
   "metadata": {
    "collapsed": false
   },
   "outputs": [
    {
     "name": "stderr",
     "output_type": "stream",
     "text": [
      "Warning message:\n",
      ": package 'ggplot2' was built under R version 3.3.3"
     ]
    }
   ],
   "source": [
    "library(ggplot2)\n",
    "options(repr.plot.width = 3, repr.plot.height = 3)"
   ]
  },
  {
   "cell_type": "markdown",
   "metadata": {},
   "source": [
    "## Logistic Regression\n",
    "Recall that in logistic regression, we have a binary response varialbe coded as 0 or 1.  Formally, a logistic regression is parametrized as follows:\n",
    "\n",
    "$Y_i \\sim \\text{iid Bin}(1, p_i)$\n",
    "\n",
    "$g(p_i) = \\mathbf{x}_i^\\text{T}\\beta = \\beta_0 + \\beta_1 x_i + \\cdots + \\beta_p x_p$\n",
    "\n",
    "Where $p_i = p(\\mathbf{x}_i)$ depends on the covariates $\\mathbf{x}_i$, and $g$ is the _**link function**_.  The two most common logistic links are:\n",
    "\n",
    "**Logit link:** $g(p) = \\log\\left(\\frac{p}{1-p}\\right) = \\text{logit}(p)$\n",
    "\n",
    "**Probit link:** $g(p) = \\Phi^{-1}(p)$ (where $\\Phi$ is the standard normal cdf.)\n",
    "\n",
    "### The Data\n",
    "The data used from this example come from one of UCLA's amazing IDRE modules (for R).  The module can be found [here](https://stats.idre.ucla.edu/r/dae/logit-regression/).\n",
    "\n",
    "**Data Description:** _A researcher is interested in how variables, such as GRE (Graduate Record Exam scores), GPA (grade point average) and prestige of the undergraduate institution, effect admission into graduate school. The response variable, admit/don’t admit, is a binary variable._"
   ]
  },
  {
   "cell_type": "code",
   "execution_count": 2,
   "metadata": {
    "collapsed": false
   },
   "outputs": [
    {
     "name": "stdout",
     "output_type": "stream",
     "text": [
      "[1] 400   4\n"
     ]
    },
    {
     "data": {
      "text/html": [
       "<table>\n",
       "<thead><tr><th></th><th scope=col>admit</th><th scope=col>gre</th><th scope=col>gpa</th><th scope=col>rank</th></tr></thead>\n",
       "<tbody>\n",
       "\t<tr><th scope=row>1</th><td>  0.00</td><td>380.00</td><td>  3.61</td><td>  3.00</td></tr>\n",
       "\t<tr><th scope=row>2</th><td>  1.00</td><td>660.00</td><td>  3.67</td><td>  3.00</td></tr>\n",
       "\t<tr><th scope=row>3</th><td>  1</td><td>800</td><td>  4</td><td>  1</td></tr>\n",
       "\t<tr><th scope=row>4</th><td>  1.00</td><td>640.00</td><td>  3.19</td><td>  4.00</td></tr>\n",
       "\t<tr><th scope=row>5</th><td>  0.00</td><td>520.00</td><td>  2.93</td><td>  4.00</td></tr>\n",
       "\t<tr><th scope=row>6</th><td>  1</td><td>760</td><td>  3</td><td>  2</td></tr>\n",
       "</tbody>\n",
       "</table>\n"
      ],
      "text/latex": [
       "\\begin{tabular}{r|llll}\n",
       "  & admit & gre & gpa & rank\\\\\n",
       "\\hline\n",
       "\t1 &   0.00 & 380.00 &   3.61 &   3.00\\\\\n",
       "\t2 &   1.00 & 660.00 &   3.67 &   3.00\\\\\n",
       "\t3 &   1 & 800 &   4 &   1\\\\\n",
       "\t4 &   1.00 & 640.00 &   3.19 &   4.00\\\\\n",
       "\t5 &   0.00 & 520.00 &   2.93 &   4.00\\\\\n",
       "\t6 &   1 & 760 &   3 &   2\\\\\n",
       "\\end{tabular}\n"
      ],
      "text/plain": [
       "  admit gre  gpa rank\n",
       "1     0 380 3.61    3\n",
       "2     1 660 3.67    3\n",
       "3     1 800 4.00    1\n",
       "4     1 640 3.19    4\n",
       "5     0 520 2.93    4\n",
       "6     1 760 3.00    2"
      ]
     },
     "metadata": {},
     "output_type": "display_data"
    }
   ],
   "source": [
    "grad <- read.csv(\"https://stats.idre.ucla.edu/stat/data/binary.csv\")\n",
    "\n",
    "# Let's do some EDA!\n",
    "print(dim(grad))\n",
    "head(grad)"
   ]
  },
  {
   "cell_type": "code",
   "execution_count": 3,
   "metadata": {
    "collapsed": false
   },
   "outputs": [
    {
     "data": {
      "text/plain": [
       "     admit             gre             gpa             rank      \n",
       " Min.   :0.0000   Min.   :220.0   Min.   :2.260   Min.   :1.000  \n",
       " 1st Qu.:0.0000   1st Qu.:520.0   1st Qu.:3.130   1st Qu.:2.000  \n",
       " Median :0.0000   Median :580.0   Median :3.395   Median :2.000  \n",
       " Mean   :0.3175   Mean   :587.7   Mean   :3.390   Mean   :2.485  \n",
       " 3rd Qu.:1.0000   3rd Qu.:660.0   3rd Qu.:3.670   3rd Qu.:3.000  \n",
       " Max.   :1.0000   Max.   :800.0   Max.   :4.000   Max.   :4.000  "
      ]
     },
     "metadata": {},
     "output_type": "display_data"
    }
   ],
   "source": [
    "summary(grad)"
   ]
  },
  {
   "cell_type": "code",
   "execution_count": 4,
   "metadata": {
    "collapsed": false
   },
   "outputs": [
    {
     "data": {
      "text/plain": [
       "\n",
       "  0   1 \n",
       "273 127 "
      ]
     },
     "metadata": {},
     "output_type": "display_data"
    }
   ],
   "source": [
    "table(grad$admit)"
   ]
  },
  {
   "cell_type": "code",
   "execution_count": 5,
   "metadata": {
    "collapsed": false
   },
   "outputs": [
    {
     "data": {
      "image/png": "[encoded data removed]",
      "text/plain": [
       "plot without title"
      ]
     },
     "metadata": {
      "image/svg+xml": {
       "isolated": true
      }
     },
     "output_type": "display_data"
    },
    {
     "data": {
      "image/png": "[encoded data removed]",
      "text/plain": [
       "plot without title"
      ]
     },
     "metadata": {
      "image/svg+xml": {
       "isolated": true
      }
     },
     "output_type": "display_data"
    },
    {
     "data": {
      "image/png": "[encoded data removed]",
      "text/plain": [
       "plot without title"
      ]
     },
     "metadata": {
      "image/svg+xml": {
       "isolated": true
      }
     },
     "output_type": "display_data"
    }
   ],
   "source": [
    "ggplot(grad, aes(as.factor(admit), gre)) +\n",
    "    theme_bw() +\n",
    "    geom_boxplot(fill = 'lightblue') +\n",
    "    labs(x = 'Admitted', y = 'GRE Score')\n",
    "\n",
    "ggplot(grad, aes(as.factor(admit), gpa)) +\n",
    "    theme_bw() +\n",
    "    geom_boxplot(fill = 'lightblue') +\n",
    "    labs(x = 'Admitted', y = 'GPA')\n",
    "\n",
    "ggplot(grad, aes(as.factor(admit), rank)) +\n",
    "    theme_bw() +\n",
    "    geom_boxplot(fill = 'lightblue') +\n",
    "    labs(x = 'Admitted', y = 'Rank')"
   ]
  },
  {
   "cell_type": "code",
   "execution_count": 6,
   "metadata": {
    "collapsed": false
   },
   "outputs": [
    {
     "data": {
      "text/plain": [
       "\n",
       "Call:\n",
       "glm(formula = admit ~ gre + gpa + rank, family = binomial, data = grad)\n",
       "\n",
       "Deviance Residuals: \n",
       "    Min       1Q   Median       3Q      Max  \n",
       "-1.5802  -0.8848  -0.6382   1.1575   2.1732  \n",
       "\n",
       "Coefficients:\n",
       "             Estimate Std. Error z value Pr(>|z|)    \n",
       "(Intercept) -3.449548   1.132846  -3.045  0.00233 ** \n",
       "gre          0.002294   0.001092   2.101  0.03564 *  \n",
       "gpa          0.777014   0.327484   2.373  0.01766 *  \n",
       "rank        -0.560031   0.127137  -4.405 1.06e-05 ***\n",
       "---\n",
       "Signif. codes:  0 '***' 0.001 '**' 0.01 '*' 0.05 '.' 0.1 ' ' 1\n",
       "\n",
       "(Dispersion parameter for binomial family taken to be 1)\n",
       "\n",
       "    Null deviance: 499.98  on 399  degrees of freedom\n",
       "Residual deviance: 459.44  on 396  degrees of freedom\n",
       "AIC: 467.44\n",
       "\n",
       "Number of Fisher Scoring iterations: 4\n"
      ]
     },
     "metadata": {},
     "output_type": "display_data"
    }
   ],
   "source": [
    "glm_logit <- glm(admit ~ gre + gpa + rank, data = grad, family = binomial)\n",
    "summary(glm_logit)"
   ]
  },
  {
   "cell_type": "markdown",
   "metadata": {
    "collapsed": true
   },
   "source": [
    "### Discussion:\n",
    "What can you tell me about this output?\n",
    "* What do the z-statistics tell you?\n",
    "* If I scored 100 points better on my GRE, how would that affect my odds of acceptance?\n",
    "* What do you think the number of IRLS interations can tell us?\n",
    "* Overall, is this a good model fit? (_Without looking at classification accuracy_...)"
   ]
  },
  {
   "cell_type": "code",
   "execution_count": 7,
   "metadata": {
    "collapsed": false
   },
   "outputs": [
    {
     "data": {
      "text/plain": [
       "\n",
       "Call:\n",
       "glm(formula = admit ~ gre + gpa, family = binomial, data = grad)\n",
       "\n",
       "Deviance Residuals: \n",
       "    Min       1Q   Median       3Q      Max  \n",
       "-1.2730  -0.8988  -0.7206   1.3013   2.0620  \n",
       "\n",
       "Coefficients:\n",
       "             Estimate Std. Error z value Pr(>|z|)    \n",
       "(Intercept) -4.949378   1.075093  -4.604 4.15e-06 ***\n",
       "gre          0.002691   0.001057   2.544   0.0109 *  \n",
       "gpa          0.754687   0.319586   2.361   0.0182 *  \n",
       "---\n",
       "Signif. codes:  0 '***' 0.001 '**' 0.01 '*' 0.05 '.' 0.1 ' ' 1\n",
       "\n",
       "(Dispersion parameter for binomial family taken to be 1)\n",
       "\n",
       "    Null deviance: 499.98  on 399  degrees of freedom\n",
       "Residual deviance: 480.34  on 397  degrees of freedom\n",
       "AIC: 486.34\n",
       "\n",
       "Number of Fisher Scoring iterations: 4\n"
      ]
     },
     "metadata": {},
     "output_type": "display_data"
    }
   ],
   "source": [
    "# Next, let's see if we can safely reduce our model.\n",
    "glm_reduced <- glm(admit ~ gre + gpa, data = grad, family = binomial)\n",
    "summary(glm_reduced)"
   ]
  },
  {
   "cell_type": "code",
   "execution_count": 8,
   "metadata": {
    "collapsed": false
   },
   "outputs": [
    {
     "name": "stdout",
     "output_type": "stream",
     "text": [
      "Difference in Deviance:  20.90222 \n",
      "p-value of test of difference:  4.83335e-06"
     ]
    }
   ],
   "source": [
    "# Test model differences\n",
    "D <- glm_reduced$deviance - glm_logit$deviance\n",
    "cat('Difference in Deviance: ', D, '\\n')\n",
    "pval = 1 - pchisq(D, df = 1)\n",
    "cat('p-value of test of difference: ', pval) # What can we conclude here?"
   ]
  },
  {
   "cell_type": "markdown",
   "metadata": {},
   "source": [
    "### Poisson Regression Example\n",
    "Recall the formal definition of a Poisson regression:\n",
    "\n",
    "$Y_i \\sim \\text{iid Poi}(\\lambda_i)$\n",
    "\n",
    "$\\log (\\lambda_i) = \\mathbf{x}_i^\\text{T}\\beta = \\beta_0 + \\beta_1 x_1 + \\cdots + \\beta_p x_p$\n",
    "\n",
    "where, again, $\\lambda_i = \\lambda(\\mathbf{x}_i)$ depends on $\\mathbf{x}_i$.\n",
    "\n",
    "#### Data\n",
    "We'll again rely on UCLA's IDRE module.  This one can be found [here](https://stats.idre.ucla.edu/r/dae/poisson-regression/).\n",
    "\n",
    "#### Data Description\n",
    "_The number of awards earned by students at one high school. Predictors of the number of awards earned include the type of program in which the student was enrolled (e.g., vocational, general or academic) and the score on their final exam in math._"
   ]
  },
  {
   "cell_type": "code",
   "execution_count": 9,
   "metadata": {
    "collapsed": false
   },
   "outputs": [
    {
     "data": {
      "text/html": [
       "<table>\n",
       "<thead><tr><th></th><th scope=col>id</th><th scope=col>num_awards</th><th scope=col>prog</th><th scope=col>math</th></tr></thead>\n",
       "<tbody>\n",
       "\t<tr><th scope=row>1</th><td>45</td><td> 0</td><td> 3</td><td>41</td></tr>\n",
       "\t<tr><th scope=row>2</th><td>108</td><td>  0</td><td>  1</td><td> 41</td></tr>\n",
       "\t<tr><th scope=row>3</th><td>15</td><td> 0</td><td> 3</td><td>44</td></tr>\n",
       "\t<tr><th scope=row>4</th><td>67</td><td> 0</td><td> 3</td><td>42</td></tr>\n",
       "\t<tr><th scope=row>5</th><td>153</td><td>  0</td><td>  3</td><td> 40</td></tr>\n",
       "\t<tr><th scope=row>6</th><td>51</td><td> 0</td><td> 1</td><td>42</td></tr>\n",
       "</tbody>\n",
       "</table>\n"
      ],
      "text/latex": [
       "\\begin{tabular}{r|llll}\n",
       "  & id & num\\_awards & prog & math\\\\\n",
       "\\hline\n",
       "\t1 & 45 &  0 &  3 & 41\\\\\n",
       "\t2 & 108 &   0 &   1 &  41\\\\\n",
       "\t3 & 15 &  0 &  3 & 44\\\\\n",
       "\t4 & 67 &  0 &  3 & 42\\\\\n",
       "\t5 & 153 &   0 &   3 &  40\\\\\n",
       "\t6 & 51 &  0 &  1 & 42\\\\\n",
       "\\end{tabular}\n"
      ],
      "text/plain": [
       "   id num_awards prog math\n",
       "1  45          0    3   41\n",
       "2 108          0    1   41\n",
       "3  15          0    3   44\n",
       "4  67          0    3   42\n",
       "5 153          0    3   40\n",
       "6  51          0    1   42"
      ]
     },
     "metadata": {},
     "output_type": "display_data"
    }
   ],
   "source": [
    "award = read.csv(\"https://stats.idre.ucla.edu/stat/data/poisson_sim.csv\")\n",
    "\n",
    "#Let's do some EDA:\n",
    "head(award)"
   ]
  },
  {
   "cell_type": "code",
   "execution_count": 10,
   "metadata": {
    "collapsed": false
   },
   "outputs": [
    {
     "data": {
      "image/png": "[encoded data removed]",
      "text/plain": [
       "plot without title"
      ]
     },
     "metadata": {
      "image/svg+xml": {
       "isolated": true
      }
     },
     "output_type": "display_data"
    },
    {
     "data": {
      "image/png": "[encoded data removed]",
      "text/plain": [
       "plot without title"
      ]
     },
     "metadata": {
      "image/svg+xml": {
       "isolated": true
      }
     },
     "output_type": "display_data"
    }
   ],
   "source": [
    "ggplot(award, aes(math, num_awards)) +\n",
    "    theme_bw() +\n",
    "    geom_point() +\n",
    "    labs(x = 'Math Score', y = 'Number of Awards')\n",
    "\n",
    "ggplot(award, aes(as.factor(prog), num_awards)) +\n",
    "    theme_bw() +\n",
    "    geom_boxplot(fill = 'lightblue') +\n",
    "    labs(x = 'Program', y = 'Number of Awards')"
   ]
  },
  {
   "cell_type": "code",
   "execution_count": 11,
   "metadata": {
    "collapsed": false
   },
   "outputs": [
    {
     "data": {
      "text/plain": [
       "\n",
       "Call:\n",
       "glm(formula = num_awards ~ prog + math, family = poisson, data = award)\n",
       "\n",
       "Deviance Residuals: \n",
       "    Min       1Q   Median       3Q      Max  \n",
       "-2.1840  -0.9003  -0.5891   0.3948   2.9539  \n",
       "\n",
       "Coefficients:\n",
       "             Estimate Std. Error z value Pr(>|z|)    \n",
       "(Intercept) -5.578057   0.676823  -8.242   <2e-16 ***\n",
       "prog         0.123273   0.163261   0.755     0.45    \n",
       "math         0.086121   0.009586   8.984   <2e-16 ***\n",
       "---\n",
       "Signif. codes:  0 '***' 0.001 '**' 0.01 '*' 0.05 '.' 0.1 ' ' 1\n",
       "\n",
       "(Dispersion parameter for poisson family taken to be 1)\n",
       "\n",
       "    Null deviance: 287.67  on 199  degrees of freedom\n",
       "Residual deviance: 203.45  on 197  degrees of freedom\n",
       "AIC: 385.51\n",
       "\n",
       "Number of Fisher Scoring iterations: 6\n"
      ]
     },
     "metadata": {},
     "output_type": "display_data"
    }
   ],
   "source": [
    "# Notice that prog is actually a categorical variable - I am aware of this.\n",
    "# I'm going to suspsend that knowledge for the sake of example.\n",
    "glm_poi <- glm(num_awards ~ prog + math, data = award, family = poisson)\n",
    "summary(glm_poi)"
   ]
  },
  {
   "cell_type": "code",
   "execution_count": 12,
   "metadata": {
    "collapsed": false
   },
   "outputs": [
    {
     "data": {
      "text/plain": [
       "\n",
       "Call:\n",
       "glm(formula = num_awards ~ math, family = poisson, data = award)\n",
       "\n",
       "Deviance Residuals: \n",
       "    Min       1Q   Median       3Q      Max  \n",
       "-2.1853  -0.9070  -0.6001   0.3246   2.9529  \n",
       "\n",
       "Coefficients:\n",
       "             Estimate Std. Error z value Pr(>|z|)    \n",
       "(Intercept) -5.333532   0.591261  -9.021   <2e-16 ***\n",
       "math         0.086166   0.009679   8.902   <2e-16 ***\n",
       "---\n",
       "Signif. codes:  0 '***' 0.001 '**' 0.01 '*' 0.05 '.' 0.1 ' ' 1\n",
       "\n",
       "(Dispersion parameter for poisson family taken to be 1)\n",
       "\n",
       "    Null deviance: 287.67  on 199  degrees of freedom\n",
       "Residual deviance: 204.02  on 198  degrees of freedom\n",
       "AIC: 384.08\n",
       "\n",
       "Number of Fisher Scoring iterations: 6\n"
      ]
     },
     "metadata": {},
     "output_type": "display_data"
    }
   ],
   "source": [
    "# Interesting - it looks like prog is pretty insignificant.\n",
    "# Let's try removing it and seeing what happens.\n",
    "glm_poi_red <- glm(num_awards ~ math, data = award, family = poisson)\n",
    "summary(glm_poi_red)"
   ]
  },
  {
   "cell_type": "code",
   "execution_count": 13,
   "metadata": {
    "collapsed": false
   },
   "outputs": [
    {
     "name": "stdout",
     "output_type": "stream",
     "text": [
      "Difference in Deviance:  0.5701123 \n",
      "p-value of test of difference:  0.4502143"
     ]
    }
   ],
   "source": [
    "# Test model difference:\n",
    "D_poi <- glm_poi_red$deviance - glm_poi$deviance\n",
    "cat('Difference in Deviance: ', D_poi, '\\n')\n",
    "pval_poi <- 1 - pchisq(D_poi, df = 1)\n",
    "cat('p-value of test of difference: ', pval_poi)"
   ]
  }
 ],
 "metadata": {
  "kernelspec": {
   "display_name": "R",
   "language": "R",
   "name": "ir"
  },
  "language_info": {
   "codemirror_mode": "r",
   "file_extension": ".r",
   "mimetype": "text/x-r-source",
   "name": "R",
   "pygments_lexer": "r",
   "version": "3.3.1"
  }
 },
 "nbformat": 4,
 "nbformat_minor": 0
}
