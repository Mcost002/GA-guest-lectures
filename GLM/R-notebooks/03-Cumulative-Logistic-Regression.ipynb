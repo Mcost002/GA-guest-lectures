{
 "cells": [
  {
   "cell_type": "markdown",
   "metadata": {},
   "source": [
    "# 03 - Cumulative Logistic Regression\n",
    "The purpose of this notebook is to illustrate the cumulative logit method in R.  As of right now, there is no native way to implement this in Python."
   ]
  },
  {
   "cell_type": "code",
   "execution_count": 1,
   "metadata": {
    "collapsed": false
   },
   "outputs": [
    {
     "name": "stderr",
     "output_type": "stream",
     "text": [
      "Warning message:\n",
      ": package 'ggplot2' was built under R version 3.3.3Warning message:\n",
      ": package 'VGAM' was built under R version 3.3.3Loading required package: stats4\n",
      "Loading required package: splines\n",
      "Warning message:\n",
      ": package 'dplyr' was built under R version 3.3.3Warning message:\n",
      ": Installed Rcpp (0.12.11) different from Rcpp used to build dplyr (0.12.12).\n",
      "Please reinstall dplyr to avoid random crashes or undefined behavior.\n",
      "Attaching package: 'dplyr'\n",
      "\n",
      "The following objects are masked from 'package:stats':\n",
      "\n",
      "    filter, lag\n",
      "\n",
      "The following objects are masked from 'package:base':\n",
      "\n",
      "    intersect, setdiff, setequal, union\n",
      "\n"
     ]
    }
   ],
   "source": [
    "options(repr.plot.width = 5, repr.plot.height = 3)\n",
    "library(ggplot2)\n",
    "library(VGAM)\n",
    "library(dplyr)"
   ]
  },
  {
   "cell_type": "markdown",
   "metadata": {},
   "source": [
    "### Cumulative Logistic Regression\n",
    "The cumulative logit is ideal for multi-class response variables that are _ordered_.  That is, the response is not a quantitative variable, but it definitely has a rank associated with it.  The cliche example is T-shirt sizes: Small, Medium, Large, etc.\n",
    "\n",
    "There are a few parametrizations of the cumulative logit, but the predominant one is parametrized as follows:\n",
    "\n",
    "$Y_i \\sim \\text{iid Mult}(1, \\mathbf{\\pi})$\n",
    "\n",
    "$\\gamma_j = \\text{P}(\\text{Category} \\le j) = \\pi_1 + \\cdots + \\pi_j$\n",
    "\n",
    "$\\text{logit}(\\gamma_1 = \\beta_{01} + \\beta_{11} x_1 + \\cdots + \\beta_{p1} x_p$\n",
    "\n",
    "$\\text{logit}(\\gamma_2) = \\beta_{02} + \\beta_{12} x_1 + \\cdots + \\beta_{p2} x_p$\n",
    "\n",
    "$\\cdots$\n",
    "\n",
    "$\\text{logit}(\\gamma_{K-1}) = \\beta_{0K-1} + \\beta_{1K-1} x_1 + \\cdots + \\beta_{pK-1} x_p$\n",
    "\n",
    "#### Data\n",
    "The data used here is the R builtin dataset `diamonds`.  I will attempt to predict the cut quality of the diamond, which is ordinal."
   ]
  },
  {
   "cell_type": "code",
   "execution_count": 2,
   "metadata": {
    "collapsed": false
   },
   "outputs": [
    {
     "ename": "ERROR",
     "evalue": "Error in vapply(df, class, FUN.VALUE = character(1L)): values must be length 1,\n but FUN(X[[2]]) result is length 2\n",
     "output_type": "error",
     "traceback": [
      "Error in vapply(df, class, FUN.VALUE = character(1L)): values must be length 1,\n but FUN(X[[2]]) result is length 2\nTraceback:\n",
      "1. tryCatch({\n .     for (mime in getOption(\"jupyter.display_mimetypes\")) {\n .         r <- mime2repr[[mime]](obj)\n .         if (!is.null(r)) \n .             data[[mime]] <- r\n .     }\n . }, error = handle_error)"
     ]
    },
    {
     "data": {
      "text/plain": [
       "  carat       cut color clarity depth table price    x    y    z\n",
       "1  0.23     Ideal     E     SI2  61.5    55   326 3.95 3.98 2.43\n",
       "2  0.21   Premium     E     SI1  59.8    61   326 3.89 3.84 2.31\n",
       "3  0.23      Good     E     VS1  56.9    65   327 4.05 4.07 2.31\n",
       "4  0.29   Premium     I     VS2  62.4    58   334 4.20 4.23 2.63\n",
       "5  0.31      Good     J     SI2  63.3    58   335 4.34 4.35 2.75\n",
       "6  0.24 Very Good     J    VVS2  62.8    57   336 3.94 3.96 2.48"
      ]
     },
     "metadata": {},
     "output_type": "display_data"
    }
   ],
   "source": [
    "data(diamonds)\n",
    "head(diamonds)"
   ]
  },
  {
   "cell_type": "code",
   "execution_count": 3,
   "metadata": {
    "collapsed": false
   },
   "outputs": [
    {
     "data": {
      "text/html": [
       "<ol class=list-inline>\n",
       "\t<li>53940</li>\n",
       "\t<li>10</li>\n",
       "</ol>\n"
      ],
      "text/latex": [
       "\\begin{enumerate*}\n",
       "\\item 53940\n",
       "\\item 10\n",
       "\\end{enumerate*}\n"
      ],
      "text/markdown": [
       "1. 53940\n",
       "2. 10\n",
       "\n",
       "\n"
      ],
      "text/plain": [
       "[1] 53940    10"
      ]
     },
     "metadata": {},
     "output_type": "display_data"
    }
   ],
   "source": [
    "dim(diamonds)"
   ]
  },
  {
   "cell_type": "code",
   "execution_count": 4,
   "metadata": {
    "collapsed": false
   },
   "outputs": [
    {
     "data": {
      "image/png": "[encoded data removed]",
      "text/plain": [
       "plot without title"
      ]
     },
     "metadata": {
      "image/svg+xml": {
       "isolated": true
      }
     },
     "output_type": "display_data"
    },
    {
     "data": {
      "image/png": "[encoded data removed]",
      "text/plain": [
       "plot without title"
      ]
     },
     "metadata": {
      "image/svg+xml": {
       "isolated": true
      }
     },
     "output_type": "display_data"
    }
   ],
   "source": [
    "# This is key - I'm ordering the factor levels here, so R know what order they come in.\n",
    "diamonds$cut <- factor(diamonds$cut,\n",
    "                       levels = c('Fair', 'Good', 'Very Good', 'Premium', 'Ideal'),\n",
    "                       ordered = TRUE)\n",
    "\n",
    "ggplot(diamonds, aes(x = cut, y = price, fill = cut)) +\n",
    "    theme_bw() +\n",
    "    geom_boxplot() +\n",
    "    theme(legend.position = 'none') +\n",
    "    labs(x = 'Cut', y = 'Price')\n",
    "\n",
    "ggplot(diamonds, aes(x = cut, y = table, fill = cut)) +\n",
    "    theme_bw() +\n",
    "    geom_boxplot() +\n",
    "    theme(legend.position = 'none') +\n",
    "    labs(x = 'Cut', y = 'Table')"
   ]
  },
  {
   "cell_type": "code",
   "execution_count": 5,
   "metadata": {
    "collapsed": false
   },
   "outputs": [
    {
     "data": {
      "text/html": [
       "<ol class=list-inline>\n",
       "\t<li>36140</li>\n",
       "\t<li>10</li>\n",
       "</ol>\n"
      ],
      "text/latex": [
       "\\begin{enumerate*}\n",
       "\\item 36140\n",
       "\\item 10\n",
       "\\end{enumerate*}\n"
      ],
      "text/markdown": [
       "1. 36140\n",
       "2. 10\n",
       "\n",
       "\n"
      ],
      "text/plain": [
       "[1] 36140    10"
      ]
     },
     "metadata": {},
     "output_type": "display_data"
    }
   ],
   "source": [
    "# Training/test split\n",
    "set.seed(1234)\n",
    "n_train <- round(nrow(diamonds) * 0.67)\n",
    "index_train <- sample(1:nrow(diamonds), n_train, replace = FALSE)\n",
    "\n",
    "diamonds_train <- diamonds[index_train,]\n",
    "diamonds_test <- diamonds[-index_train,]\n",
    "\n",
    "dim(diamonds_train)"
   ]
  },
  {
   "cell_type": "code",
   "execution_count": 6,
   "metadata": {
    "collapsed": false
   },
   "outputs": [],
   "source": [
    "# Training the model using our vglm() function\n",
    "suppressWarnings({\n",
    "    cum_logit <- vglm(cut ~ carat + table + price,\n",
    "                  data = diamonds_train,\n",
    "                  family = cumulative(par = FALSE))\n",
    "})"
   ]
  },
  {
   "cell_type": "code",
   "execution_count": 7,
   "metadata": {
    "collapsed": false
   },
   "outputs": [
    {
     "name": "stderr",
     "output_type": "stream",
     "text": [
      "Warning message:\n",
      "In matrix.power(wz, M = M, power = 0.5, fast = TRUE): Some weight matrices have negative eigenvalues. They will be assigned NAs"
     ]
    },
    {
     "data": {
      "text/plain": [
       "\n",
       "Call:\n",
       "vglm(formula = cut ~ carat + table + price, family = cumulative(par = FALSE), \n",
       "    data = diamonds_train)\n",
       "\n",
       "\n",
       "Coefficients: \n",
       "                Estimate Std. Error   z value Pr(>|z|)    \n",
       "(Intercept):1 -2.061e+01  3.486e-07 -59119524   <2e-16 ***\n",
       "(Intercept):2 -1.862e+01  3.471e-07 -53656793   <2e-16 ***\n",
       "(Intercept):3 -1.422e+01  3.758e-07 -37841336   <2e-16 ***\n",
       "(Intercept):4 -2.769e+01  1.817e-06 -15237077   <2e-16 ***\n",
       "carat:1        5.598e+00  5.259e-08 106456377   <2e-16 ***\n",
       "carat:2        2.389e+00  5.118e-08  46671232   <2e-16 ***\n",
       "carat:3        9.709e-01  4.816e-08  20162087   <2e-16 ***\n",
       "carat:4        1.134e+00  8.360e-08  13560540   <2e-16 ***\n",
       "table:1        2.622e-01  5.699e-09  46017847   <2e-16 ***\n",
       "table:2        2.755e-01  5.458e-09  50470335   <2e-16 ***\n",
       "table:3        2.308e-01  6.079e-09  37967139   <2e-16 ***\n",
       "table:4        4.807e-01  3.305e-08  14546812   <2e-16 ***\n",
       "price:1       -6.049e-04  7.293e-12 -82942963   <2e-16 ***\n",
       "price:2       -2.759e-04  7.140e-12 -38635679   <2e-16 ***\n",
       "price:3       -1.155e-04  8.167e-12 -14137212   <2e-16 ***\n",
       "price:4       -1.095e-04  1.227e-11  -8927117   <2e-16 ***\n",
       "---\n",
       "Signif. codes:  0 '***' 0.001 '**' 0.01 '*' 0.05 '.' 0.1 ' ' 1\n",
       "\n",
       "Number of linear predictors:  4 \n",
       "\n",
       "Names of linear predictors: \n",
       "logit(P[Y<=1]), logit(P[Y<=2]), logit(P[Y<=3]), logit(P[Y<=4])\n",
       "\n",
       "Residual deviance: 154598.8 on 144544 degrees of freedom\n",
       "\n",
       "Log-likelihood: NA on 144544 degrees of freedom\n",
       "\n",
       "Number of iterations: 2 \n",
       "\n",
       "Exponentiated coefficients:\n",
       "    carat:1     carat:2     carat:3     carat:4     table:1     table:2 \n",
       "269.9428370  10.8988102   2.6403612   3.1071091   1.2998333   1.3171401 \n",
       "    table:3     table:4     price:1     price:2     price:3     price:4 \n",
       "  1.2596181   1.6172530   0.9993952   0.9997242   0.9998845   0.9998905 "
      ]
     },
     "metadata": {},
     "output_type": "display_data"
    }
   ],
   "source": [
    "summary(cum_logit)"
   ]
  },
  {
   "cell_type": "code",
   "execution_count": 10,
   "metadata": {
    "collapsed": false
   },
   "outputs": [
    {
     "data": {
      "text/html": [
       "<table>\n",
       "<thead><tr><th></th><th scope=col>Fair</th><th scope=col>Good</th><th scope=col>Very Good</th><th scope=col>Premium</th><th scope=col>Ideal</th></tr></thead>\n",
       "<tbody>\n",
       "\t<tr><th scope=row>1</th><td>0.03776219</td><td>0.06897364</td><td>0.18771175</td><td>0.16322097</td><td>0.54233144</td></tr>\n",
       "\t<tr><th scope=row>2</th><td>0.0295397</td><td>0.1063614</td><td>0.2383519</td><td>0.2698212</td><td>0.3559258</td></tr>\n",
       "\t<tr><th scope=row>3</th><td>0.007530477</td><td>0.043023800</td><td>0.161815374</td><td>0.062233434</td><td>0.725396915</td></tr>\n",
       "\t<tr><th scope=row>4</th><td>0.00979004</td><td>0.04679474</td><td>0.16419012</td><td>0.06372056</td><td>0.71550454</td></tr>\n",
       "\t<tr><th scope=row>5</th><td>0.07244211</td><td>0.11534949</td><td>0.22304249</td><td>0.27831185</td><td>0.31085406</td></tr>\n",
       "\t<tr><th scope=row>6</th><td>0.007679039</td><td>0.043228417</td><td>0.161927798</td><td>0.062718157</td><td>0.724446590</td></tr>\n",
       "</tbody>\n",
       "</table>\n"
      ],
      "text/latex": [
       "\\begin{tabular}{r|lllll}\n",
       "  & Fair & Good & Very Good & Premium & Ideal\\\\\n",
       "\\hline\n",
       "\t1 & 0.03776219 & 0.06897364 & 0.18771175 & 0.16322097 & 0.54233144\\\\\n",
       "\t2 & 0.0295397 & 0.1063614 & 0.2383519 & 0.2698212 & 0.3559258\\\\\n",
       "\t3 & 0.007530477 & 0.043023800 & 0.161815374 & 0.062233434 & 0.725396915\\\\\n",
       "\t4 & 0.00979004 & 0.04679474 & 0.16419012 & 0.06372056 & 0.71550454\\\\\n",
       "\t5 & 0.07244211 & 0.11534949 & 0.22304249 & 0.27831185 & 0.31085406\\\\\n",
       "\t6 & 0.007679039 & 0.043228417 & 0.161927798 & 0.062718157 & 0.724446590\\\\\n",
       "\\end{tabular}\n"
      ],
      "text/markdown": [
       "1. 0.0377621924728544\n",
       "2. 0.0295396986892263\n",
       "3. 0.00753047695857869\n",
       "4. 0.0097900404119774\n",
       "5. 0.0724421074049963\n",
       "6. 0.00767903865911086\n",
       "7. 0.0689736403094992\n",
       "8. 0.106361400391559\n",
       "9. 0.0430238001928044\n",
       "10. 0.0467947368362593\n",
       "11. 0.115349489369991\n",
       "12. 0.0432284166825299\n",
       "13. 0.187711754313326\n",
       "14. 0.238351878982724\n",
       "15. 0.161815374066001\n",
       "16. 0.164190124478202\n",
       "17. 0.223042494345716\n",
       "18. 0.161927797817303\n",
       "19. 0.163220971031149\n",
       "20. 0.269821195789687\n",
       "21. 0.0622334341518689\n",
       "22. 0.0637205594175325\n",
       "23. 0.278311846776237\n",
       "24. 0.0627181566509974\n",
       "25. 0.542331441873171\n",
       "26. 0.355925826146803\n",
       "27. 0.725396914630747\n",
       "28. 0.715504538856029\n",
       "29. 0.31085406210306\n",
       "30. 0.724446590190059\n",
       "\n",
       "\n"
      ],
      "text/plain": [
       "         Fair       Good Very Good    Premium     Ideal\n",
       "1 0.037762192 0.06897364 0.1877118 0.16322097 0.5423314\n",
       "2 0.029539699 0.10636140 0.2383519 0.26982120 0.3559258\n",
       "3 0.007530477 0.04302380 0.1618154 0.06223343 0.7253969\n",
       "4 0.009790040 0.04679474 0.1641901 0.06372056 0.7155045\n",
       "5 0.072442107 0.11534949 0.2230425 0.27831185 0.3108541\n",
       "6 0.007679039 0.04322842 0.1619278 0.06271816 0.7244466"
      ]
     },
     "metadata": {},
     "output_type": "display_data"
    }
   ],
   "source": [
    "# Get matrix prediction for training/test split\n",
    "yhat_train <- predict(cum_logit, diamonds_train, type = 'response')\n",
    "yhat_test <- predict(cum_logit, diamonds_test, type = 'response')\n",
    "\n",
    "head(yhat_train)"
   ]
  },
  {
   "cell_type": "code",
   "execution_count": 12,
   "metadata": {
    "collapsed": false
   },
   "outputs": [
    {
     "data": {
      "text/plain": [
       "class_train\n",
       "    1     2     3     4     5 \n",
       "  948   190    12 10698 24292 "
      ]
     },
     "metadata": {},
     "output_type": "display_data"
    }
   ],
   "source": [
    "# Convert to maximum probabilities.\n",
    "class_train <- apply(as.matrix(yhat_train), 1, which.max)\n",
    "class_test <- apply(as.matrix(yhat_test), 1, which.max)\n",
    "\n",
    "table(class_train)"
   ]
  },
  {
   "cell_type": "code",
   "execution_count": 13,
   "metadata": {
    "collapsed": false
   },
   "outputs": [
    {
     "data": {
      "text/plain": [
       "class_train\n",
       "     Fair      Good     Ideal   Premium Very Good \n",
       "      948       190     24292     10698        12 "
      ]
     },
     "metadata": {},
     "output_type": "display_data"
    }
   ],
   "source": [
    "# Convert back into 'cut' class names.\n",
    "lookup_cut <- c('1' = 'Fair',\n",
    "                '2' = 'Good',\n",
    "                '3' = 'Very Good',\n",
    "                '4' = 'Premium',\n",
    "                '5' = 'Ideal')\n",
    "\n",
    "class_train <- lookup_cut[class_train]\n",
    "class_test <- lookup_cut[class_test]\n",
    "\n",
    "table(class_train)"
   ]
  },
  {
   "cell_type": "code",
   "execution_count": 16,
   "metadata": {
    "collapsed": false
   },
   "outputs": [
    {
     "name": "stdout",
     "output_type": "stream",
     "text": [
      "Correct predictions:  19773 \n",
      "Total training obs:  36140 \n",
      "Training accuracy:  0.5471223"
     ]
    }
   ],
   "source": [
    "# It worked!  Let's find our classification accuracies.\n",
    "train_acc = (class_train == diamonds_train$cut)\n",
    "\n",
    "cat('Correct predictions: ', sum(train_acc), '\\n')\n",
    "cat('Total training obs: ', nrow(diamonds_train), '\\n')\n",
    "cat('Training accuracy: ', mean(train_acc))"
   ]
  },
  {
   "cell_type": "code",
   "execution_count": 18,
   "metadata": {
    "collapsed": false
   },
   "outputs": [
    {
     "name": "stdout",
     "output_type": "stream",
     "text": [
      "Correct predictions:  9836 \n",
      "Total testing obs:  17800 \n",
      "Testing accuracy:  0.5525843"
     ]
    }
   ],
   "source": [
    "test_acc = (class_test == diamonds_test$cut)\n",
    "\n",
    "cat('Correct predictions: ', sum(test_acc), '\\n')\n",
    "cat('Total testing obs: ', nrow(diamonds_test), '\\n')\n",
    "cat('Testing accuracy: ', mean(test_acc))"
   ]
  }
 ],
 "metadata": {
  "kernelspec": {
   "display_name": "R",
   "language": "R",
   "name": "ir"
  },
  "language_info": {
   "codemirror_mode": "r",
   "file_extension": ".r",
   "mimetype": "text/x-r-source",
   "name": "R",
   "pygments_lexer": "r",
   "version": "3.3.1"
  }
 },
 "nbformat": 4,
 "nbformat_minor": 0
}
