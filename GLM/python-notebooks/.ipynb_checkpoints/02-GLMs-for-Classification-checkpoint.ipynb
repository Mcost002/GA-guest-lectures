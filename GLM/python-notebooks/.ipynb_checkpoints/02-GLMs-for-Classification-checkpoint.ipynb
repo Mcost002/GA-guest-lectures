{
 "cells": [
  {
   "cell_type": "markdown",
   "metadata": {},
   "source": [
    "# 02 - GLMs for Classification\n",
    "GLMs make excellent, flexible statistical models.  However, they also excel at making classification algorithms.  The purpose of this notebook is to illustrate how this might be done in Python.\n",
    "\n",
    "I give three examples of how GLMs may be used for classification:\n",
    "* Logistic regression\n",
    "* Multinomial logistic regression\n",
    "* Cumulative logistic regression"
   ]
  },
  {
   "cell_type": "code",
   "execution_count": 3,
   "metadata": {},
   "outputs": [],
   "source": [
    "import numpy as np\n",
    "import pandas as pd\n",
    "import statsmodels.api as sm\n",
    "import sklearn.linear_model as skl\n",
    "\n",
    "from sklearn.model_selection import train_test_split\n",
    "\n",
    "import seaborn as sns\n",
    "import matplotlib.pyplot as plt\n",
    "%matplotlib inline"
   ]
  },
  {
   "cell_type": "markdown",
   "metadata": {},
   "source": [
    "### Logistic Regression for Classification\n",
    "#### Data:\n",
    "For this example, I use the same data set from part 01: the `grad` data.  This is from [UCLA's IDRE module](https://stats.idre.ucla.edu/r/dae/logit-regression/), and here's its description:\n",
    "\n",
    " _A researcher is interested in how variables, such as GRE (Graduate Record Exam scores), GPA (grade point average) and prestige of the undergraduate institution, effect admission into graduate school. The response variable, admit/don’t admit, is a binary variable._"
   ]
  },
  {
   "cell_type": "code",
   "execution_count": 4,
   "metadata": {},
   "outputs": [
    {
     "data": {
      "text/html": [
       "<div>\n",
       "<style>\n",
       "    .dataframe thead tr:only-child th {\n",
       "        text-align: right;\n",
       "    }\n",
       "\n",
       "    .dataframe thead th {\n",
       "        text-align: left;\n",
       "    }\n",
       "\n",
       "    .dataframe tbody tr th {\n",
       "        vertical-align: top;\n",
       "    }\n",
       "</style>\n",
       "<table border=\"1\" class=\"dataframe\">\n",
       "  <thead>\n",
       "    <tr style=\"text-align: right;\">\n",
       "      <th></th>\n",
       "      <th>admit</th>\n",
       "      <th>gre</th>\n",
       "      <th>gpa</th>\n",
       "      <th>rank</th>\n",
       "    </tr>\n",
       "  </thead>\n",
       "  <tbody>\n",
       "    <tr>\n",
       "      <th>0</th>\n",
       "      <td>0</td>\n",
       "      <td>380</td>\n",
       "      <td>3.61</td>\n",
       "      <td>3</td>\n",
       "    </tr>\n",
       "    <tr>\n",
       "      <th>1</th>\n",
       "      <td>1</td>\n",
       "      <td>660</td>\n",
       "      <td>3.67</td>\n",
       "      <td>3</td>\n",
       "    </tr>\n",
       "    <tr>\n",
       "      <th>2</th>\n",
       "      <td>1</td>\n",
       "      <td>800</td>\n",
       "      <td>4.00</td>\n",
       "      <td>1</td>\n",
       "    </tr>\n",
       "    <tr>\n",
       "      <th>3</th>\n",
       "      <td>1</td>\n",
       "      <td>640</td>\n",
       "      <td>3.19</td>\n",
       "      <td>4</td>\n",
       "    </tr>\n",
       "    <tr>\n",
       "      <th>4</th>\n",
       "      <td>0</td>\n",
       "      <td>520</td>\n",
       "      <td>2.93</td>\n",
       "      <td>4</td>\n",
       "    </tr>\n",
       "  </tbody>\n",
       "</table>\n",
       "</div>"
      ],
      "text/plain": [
       "   admit  gre   gpa  rank\n",
       "0      0  380  3.61     3\n",
       "1      1  660  3.67     3\n",
       "2      1  800  4.00     1\n",
       "3      1  640  3.19     4\n",
       "4      0  520  2.93     4"
      ]
     },
     "execution_count": 4,
     "metadata": {},
     "output_type": "execute_result"
    }
   ],
   "source": [
    "grad = pd.read_csv(\"https://stats.idre.ucla.edu/stat/data/binary.csv\")\n",
    "grad.head()"
   ]
  },
  {
   "cell_type": "code",
   "execution_count": 5,
   "metadata": {},
   "outputs": [
    {
     "data": {
      "text/plain": [
       "0    273\n",
       "1    127\n",
       "Name: admit, dtype: int64"
      ]
     },
     "execution_count": 5,
     "metadata": {},
     "output_type": "execute_result"
    }
   ],
   "source": [
    "grad.admit.value_counts()"
   ]
  },
  {
   "cell_type": "code",
   "execution_count": 6,
   "metadata": {
    "collapsed": true
   },
   "outputs": [],
   "source": [
    "# Split my data into training and test.\n",
    "indep_vars = ['gre', 'gpa', 'rank']\n",
    "x_train, x_test, y_train, y_test = train_test_split(grad[indep_vars],\n",
    "                                                   grad.admit,\n",
    "                                                   test_size = 0.3,\n",
    "                                                   random_state = 1234)\n",
    "x_train = sm.add_constant(x_train)\n",
    "x_test = sm.add_constant(x_test)"
   ]
  },
  {
   "cell_type": "code",
   "execution_count": 7,
   "metadata": {},
   "outputs": [],
   "source": [
    "# I build the same logistic regression model as from part 01.\n",
    "# Logit link is assumed by default\n",
    "glm_logit = sm.GLM(y_train, \n",
    "                   x_train,\n",
    "                   sm.families.Binomial()).fit()"
   ]
  },
  {
   "cell_type": "code",
   "execution_count": 8,
   "metadata": {},
   "outputs": [
    {
     "data": {
      "text/plain": [
       "217    0.559869\n",
       "349    0.360827\n",
       "188    0.368102\n",
       "267    0.312586\n",
       "222    0.482989\n",
       "dtype: float64"
      ]
     },
     "execution_count": 8,
     "metadata": {},
     "output_type": "execute_result"
    }
   ],
   "source": [
    "# The fitted values are stored as probabilities.\n",
    "# i.e., They are the probabilities of the response variable being a \"success\" (coded as 1).\n",
    "yhat_train = glm_logit.fittedvalues\n",
    "yhat_train.head()\n"
   ]
  },
  {
   "cell_type": "code",
   "execution_count": 9,
   "metadata": {},
   "outputs": [
    {
     "data": {
      "text/plain": [
       "217    1\n",
       "349    0\n",
       "188    0\n",
       "267    0\n",
       "222    0\n",
       "dtype: int64"
      ]
     },
     "execution_count": 9,
     "metadata": {},
     "output_type": "execute_result"
    }
   ],
   "source": [
    "# I let my threshold value be 1/2, which is typical.\n",
    "# So, any probability above 1/2 is more likely to be a \"success\", and anything below 1/2 is more likely to be a \"failure\".\n",
    "# If you had some known reason, you could choose something besides 1/2, but that's rare.\n",
    "p_thresh = 0.5\n",
    "yhat_train = (yhat_train > p_thresh) * 1\n",
    "yhat_train.head()"
   ]
  },
  {
   "cell_type": "code",
   "execution_count": 10,
   "metadata": {},
   "outputs": [
    {
     "data": {
      "text/plain": [
       "0.67500000000000004"
      ]
     },
     "execution_count": 10,
     "metadata": {},
     "output_type": "execute_result"
    }
   ],
   "source": [
    "# Training classification error\n",
    "np.mean(yhat_train == y_train)"
   ]
  },
  {
   "cell_type": "code",
   "execution_count": 11,
   "metadata": {},
   "outputs": [
    {
     "data": {
      "text/plain": [
       "0.76666666666666672"
      ]
     },
     "execution_count": 11,
     "metadata": {},
     "output_type": "execute_result"
    }
   ],
   "source": [
    "# Test classification error\n",
    "yhat_test = glm_logit.predict(x_test)\n",
    "yhat_test = pd.Series(yhat_test)\n",
    "yhat_test = (yhat_test > p_thresh) * 1\n",
    "np.mean(yhat_test == y_test) # Not bad at all!"
   ]
  },
  {
   "cell_type": "markdown",
   "metadata": {},
   "source": [
    "### Multinomial Logistic Regression\n",
    "Using GLMs to classify is not limited to binomial response data.  The multinomial distribution can be used to help classify a response variable with more than 2 levels (also known as \"polytomous data\").\n",
    "\n",
    "Recall the formal definition of a $K$-class multinomial logistic regression:\n",
    "\n",
    "$Y_i \\sim \\text{iid Mult}(1, \\mathbf{\\pi})$\n",
    "\n",
    "$\\log\\left(\\frac{p_1}{p_K}\\right) = \\beta_{01} + \\beta_{11} x_1 + \\cdots + \\beta_{p1} x_p$\n",
    "\n",
    "$\\log\\left(\\frac{p_2}{p_K}\\right) = \\beta_{02} + \\beta_{12} x_1 + \\cdots + \\beta_{p2} x_p$\n",
    "\n",
    "$\\cdots$\n",
    "\n",
    "$\\log\\left(\\frac{p_{K-1}}{p_K}\\right) = \\beta_{0K-1} + \\beta_{1K-1} x_1 + \\cdots + \\beta_{pK-1} x_p$\n",
    "\n",
    "#### Data\n",
    "This time, I'm using the classic `iris` dataset.  In Python, this public-domain dataset can be found in the `seaborn` plotting package.  The data consist of four flower characteristcs, and the response variable, flower type.  There are 3 classes this can take."
   ]
  },
  {
   "cell_type": "code",
   "execution_count": 12,
   "metadata": {},
   "outputs": [
    {
     "data": {
      "text/html": [
       "<div>\n",
       "<table border=\"1\" class=\"dataframe\">\n",
       "  <thead>\n",
       "    <tr style=\"text-align: right;\">\n",
       "      <th></th>\n",
       "      <th>sepal_length</th>\n",
       "      <th>sepal_width</th>\n",
       "      <th>petal_length</th>\n",
       "      <th>petal_width</th>\n",
       "      <th>species</th>\n",
       "    </tr>\n",
       "  </thead>\n",
       "  <tbody>\n",
       "    <tr>\n",
       "      <th>0</th>\n",
       "      <td>5.1</td>\n",
       "      <td>3.5</td>\n",
       "      <td>1.4</td>\n",
       "      <td>0.2</td>\n",
       "      <td>setosa</td>\n",
       "    </tr>\n",
       "    <tr>\n",
       "      <th>1</th>\n",
       "      <td>4.9</td>\n",
       "      <td>3.0</td>\n",
       "      <td>1.4</td>\n",
       "      <td>0.2</td>\n",
       "      <td>setosa</td>\n",
       "    </tr>\n",
       "    <tr>\n",
       "      <th>2</th>\n",
       "      <td>4.7</td>\n",
       "      <td>3.2</td>\n",
       "      <td>1.3</td>\n",
       "      <td>0.2</td>\n",
       "      <td>setosa</td>\n",
       "    </tr>\n",
       "    <tr>\n",
       "      <th>3</th>\n",
       "      <td>4.6</td>\n",
       "      <td>3.1</td>\n",
       "      <td>1.5</td>\n",
       "      <td>0.2</td>\n",
       "      <td>setosa</td>\n",
       "    </tr>\n",
       "    <tr>\n",
       "      <th>4</th>\n",
       "      <td>5.0</td>\n",
       "      <td>3.6</td>\n",
       "      <td>1.4</td>\n",
       "      <td>0.2</td>\n",
       "      <td>setosa</td>\n",
       "    </tr>\n",
       "  </tbody>\n",
       "</table>\n",
       "</div>"
      ],
      "text/plain": [
       "   sepal_length  sepal_width  petal_length  petal_width species\n",
       "0           5.1          3.5           1.4          0.2  setosa\n",
       "1           4.9          3.0           1.4          0.2  setosa\n",
       "2           4.7          3.2           1.3          0.2  setosa\n",
       "3           4.6          3.1           1.5          0.2  setosa\n",
       "4           5.0          3.6           1.4          0.2  setosa"
      ]
     },
     "execution_count": 12,
     "metadata": {},
     "output_type": "execute_result"
    }
   ],
   "source": [
    "iris = sns.load_dataset('iris')\n",
    "iris.head()"
   ]
  },
  {
   "cell_type": "code",
   "execution_count": 13,
   "metadata": {},
   "outputs": [
    {
     "data": {
      "text/plain": [
       "versicolor    50\n",
       "setosa        50\n",
       "virginica     50\n",
       "Name: species, dtype: int64"
      ]
     },
     "execution_count": 13,
     "metadata": {},
     "output_type": "execute_result"
    }
   ],
   "source": [
    "# The class lables are the 'species'.  There are three.\n",
    "iris.species.value_counts()"
   ]
  },
  {
   "cell_type": "code",
   "execution_count": 14,
   "metadata": {},
   "outputs": [
    {
     "data": {
      "text/plain": [
       "<seaborn.axisgrid.FacetGrid at 0xbbba828>"
      ]
     },
     "execution_count": 14,
     "metadata": {},
     "output_type": "execute_result"
    },
    {
     "data": {
      "image/png": "[encoded data removed]",
      "text/plain": [
       "<matplotlib.figure.Figure at 0xbbba940>"
      ]
     },
     "metadata": {},
     "output_type": "display_data"
    },
    {
     "data": {
      "image/png": "[encoded data removed]",
      "text/plain": [
       "<matplotlib.figure.Figure at 0xbc49e48>"
      ]
     },
     "metadata": {},
     "output_type": "display_data"
    }
   ],
   "source": [
    "# Notice that these classes are VERY easy to separate.\n",
    "sns.lmplot('sepal_length', 'sepal_width', \n",
    "           data = iris, \n",
    "           hue = 'species',\n",
    "           fit_reg = False)\n",
    "\n",
    "sns.lmplot('petal_length', 'petal_width', \n",
    "           data = iris, \n",
    "           hue = 'species',\n",
    "           fit_reg = False)"
   ]
  },
  {
   "cell_type": "code",
   "execution_count": 54,
   "metadata": {},
   "outputs": [],
   "source": [
    "# Training/Test split\n",
    "# Purposefully not using all four variables\n",
    "indep_vars = ['petal_length', 'petal_width']\n",
    "\n",
    "x_train, x_test, y_train, y_test = train_test_split(iris[indep_vars],\n",
    "                                                   iris.species,\n",
    "                                                   test_size = 0.3,\n",
    "                                                   random_state = 1234)\n",
    "\n",
    "x_train = sm.add_constant(x_train)\n",
    "x_test = sm.add_constant(x_test)"
   ]
  },
  {
   "cell_type": "code",
   "execution_count": 60,
   "metadata": {},
   "outputs": [
    {
     "data": {
      "text/plain": [
       "LogisticRegression(C=1.0, class_weight=None, dual=False, fit_intercept=True,\n",
       "          intercept_scaling=1, max_iter=100, multi_class='ovr', n_jobs=1,\n",
       "          penalty='l2', random_state=None, solver='liblinear', tol=0.0001,\n",
       "          verbose=0, warm_start=False)"
      ]
     },
     "execution_count": 60,
     "metadata": {},
     "output_type": "execute_result"
    }
   ],
   "source": [
    "# Train the model\n",
    "# multi_logit = sm.MNLogit(y_train, x_train).fit()\n",
    "# Note that this is regularized.  Even though that's not what I want, the sci-kit learn\n",
    "# multinomial regression is much less bug-prone than statsmodel's.\n",
    "multi_logit = skl.LogisticRegression()\n",
    "multi_logit.fit(x_train, y_train)"
   ]
  },
  {
   "cell_type": "code",
   "execution_count": 61,
   "metadata": {},
   "outputs": [
    {
     "data": {
      "text/plain": [
       "virginica     50\n",
       "setosa        34\n",
       "versicolor    21\n",
       "dtype: int64"
      ]
     },
     "execution_count": 61,
     "metadata": {},
     "output_type": "execute_result"
    }
   ],
   "source": [
    "# Get training and test predictions (as probabilities)\n",
    "fit_train = multi_logit.predict(x_train)\n",
    "fit_test = multi_logit.predict(x_test)\n",
    "\n",
    "pd.Series(fit_train).value_counts()"
   ]
  },
  {
   "cell_type": "code",
   "execution_count": 62,
   "metadata": {},
   "outputs": [
    {
     "name": "stdout",
     "output_type": "stream",
     "text": [
      "Predicted correctly:  91\n",
      "Total training obs:  105\n",
      "Training error:  0.866666666667\n"
     ]
    }
   ],
   "source": [
    "# Training error\n",
    "print('Predicted correctly: ', np.sum(fit_train == y_train))\n",
    "print('Total training obs: ', len(fit_train))\n",
    "print('Training error: ', np.mean(fit_train == y_train))"
   ]
  },
  {
   "cell_type": "code",
   "execution_count": 63,
   "metadata": {},
   "outputs": [
    {
     "name": "stdout",
     "output_type": "stream",
     "text": [
      "Predicted correctly:  38\n",
      "Total test obs:  45\n",
      "Test error:  0.844444444444\n"
     ]
    }
   ],
   "source": [
    "# Testing error - nice!\n",
    "print('Predicted correctly: ', np.sum(fit_test == y_test))\n",
    "print('Total test obs: ', len(fit_test))\n",
    "print('Test error: ', np.mean(fit_test == y_test))"
   ]
  },
  {
   "cell_type": "markdown",
   "metadata": {},
   "source": [
    "### Cumulative Logistic Regression\n",
    "The cumulative logit is ideal for multi-class response variables that are _ordered_.  That is, the response is not a quantitative variable, but it definitely has a rank associated with it.  The cliche example is T-shirt sizes: Small, Medium, Large, etc.\n",
    "\n",
    "There are a few parametrizations of the cumulative logit, but the predominant one is parametrized as follows:\n",
    "\n",
    "$Y_i \\sim \\text{iid Mult}(1, \\mathbf{\\pi})$\n",
    "\n",
    "$\\gamma_j = \\text{P}(\\text{Category} \\le j) = \\pi_1 + \\cdots + \\pi_j$\n",
    "\n",
    "$\\text{logit}(\\gamma_1 = \\beta_{01} + \\beta_{11} x_1 + \\cdots + \\beta_{p1} x_p$\n",
    "\n",
    "$\\text{logit}(\\gamma_2) = \\beta_{02} + \\beta_{12} x_1 + \\cdots + \\beta_{p2} x_p$\n",
    "\n",
    "$\\cdots$\n",
    "\n",
    "$\\text{logit}(\\gamma_{K-1}) = \\beta_{0K-1} + \\beta_{1K-1} x_1 + \\cdots + \\beta_{pK-1} x_p$\n",
    "\n",
    "### Huh??\n",
    "Currently, there is no implementation of cumulative logistic regression in Python!  There is a good implementation in a Git repo [here](https://github.com/fabianp/minirank), but since it is difficult to install, I won't use it in this lecture.  If you are curious to see how this method works, please see the implementation in the R folder."
   ]
  }
 ],
 "metadata": {
  "anaconda-cloud": {},
  "kernelspec": {
   "display_name": "Python 2",
   "language": "python",
   "name": "python2"
  },
  "language_info": {
   "codemirror_mode": {
    "name": "ipython",
    "version": 2
   },
   "file_extension": ".py",
   "mimetype": "text/x-python",
   "name": "python",
   "nbconvert_exporter": "python",
   "pygments_lexer": "ipython2",
   "version": "2.7.13"
  }
 },
 "nbformat": 4,
 "nbformat_minor": 1
}
